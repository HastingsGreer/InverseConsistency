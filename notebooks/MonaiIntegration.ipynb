{
 "cells": [
  {
   "cell_type": "code",
   "execution_count": 1,
   "id": "7c7e6b18",
   "metadata": {},
   "outputs": [
    {
     "name": "stdout",
     "output_type": "stream",
     "text": [
      "2022-08-04 11:41:25,382 - INFO - Default downloading to '/media/data/hastings/InverseConsistency/notebooks/avg152T1_RL_nifti.nii.gz'\n",
      "2022-08-04 11:41:25,383 - INFO - Expected md5 is None, skip md5 check for file /media/data/hastings/InverseConsistency/notebooks/avg152T1_RL_nifti.nii.gz.\n",
      "2022-08-04 11:41:25,383 - INFO - File exists: /media/data/hastings/InverseConsistency/notebooks/avg152T1_RL_nifti.nii.gz, skipped downloading.\n"
     ]
    }
   ],
   "source": [
    "import itk\n",
    "import icon_registration.test_utils\n",
    "import icon_registration.pretrained_models\n",
    "import torch\n",
    "import numpy as np\n",
    "from pprint import pprint\n",
    "\n",
    "import monai\n",
    "image_A_path = str(\n",
    "        icon_registration.test_utils.TEST_DATA_DIR\n",
    "        / \"knees_diverse_sizes\"\n",
    "        /\n",
    "        \"9487462_20081003_SAG_3D_DESS_RIGHT_11495603_image.nii.gz\"\n",
    "    )\n",
    "\n",
    "\n",
    "image_B_path = str(\n",
    "        icon_registration.test_utils.TEST_DATA_DIR\n",
    "        / \"knees_diverse_sizes\"\n",
    "        / \"9225063_20090413_SAG_3D_DESS_RIGHT_12784112_image.nii.gz\"\n",
    "    )\n",
    "\n",
    "\n",
    "monai.apps.download_url(\"https://github.com/Project-MONAI/MONAI-extra-test-data/releases/download/0.8.1/avg152T1_RL_nifti.nii.gz\")\n",
    "\n",
    "image_T_path = \"avg152T1_RL_nifti.nii.gz\""
   ]
  },
  {
   "cell_type": "code",
   "execution_count": null,
   "id": "b2650295",
   "metadata": {},
   "outputs": [],
   "source": []
  },
  {
   "cell_type": "code",
   "execution_count": 9,
   "id": "4b010c97",
   "metadata": {},
   "outputs": [],
   "source": [
    "model = icon_registration.pretrained_models.OAI_knees_registration_model(\n",
    "    pretrained=True\n",
    ")\n"
   ]
  },
  {
   "cell_type": "code",
   "execution_count": 17,
   "id": "9c693230",
   "metadata": {},
   "outputs": [],
   "source": [
    "image_A = monai.transforms.LoadImage(\n",
    "    image_only=True, \n",
    "    ensure_channel_first=True)(image_A_path)\n",
    "image_B = monai.transforms.LoadImage(\n",
    "    image_only=True, \n",
    "    ensure_channel_first=True)(image_B_path)"
   ]
  },
  {
   "cell_type": "code",
   "execution_count": 18,
   "id": "2727d1ff",
   "metadata": {},
   "outputs": [
    {
     "data": {
      "text/plain": [
       "(1, 384, 384, 176)"
      ]
     },
     "execution_count": 18,
     "metadata": {},
     "output_type": "execute_result"
    }
   ],
   "source": [
    "image_A.shape"
   ]
  },
  {
   "cell_type": "code",
   "execution_count": 19,
   "id": "2ed308c0",
   "metadata": {},
   "outputs": [
    {
     "data": {
      "text/plain": [
       "(1, 384, 384, 160)"
      ]
     },
     "execution_count": 19,
     "metadata": {},
     "output_type": "execute_result"
    }
   ],
   "source": [
    "image_B.shape"
   ]
  },
  {
   "cell_type": "code",
   "execution_count": 20,
   "id": "2d219cf4",
   "metadata": {},
   "outputs": [
    {
     "data": {
      "text/plain": [
       "torch.Size([1, 3, 80, 192, 192])"
      ]
     },
     "execution_count": 20,
     "metadata": {},
     "output_type": "execute_result"
    }
   ],
   "source": [
    "model.identity_map.shape\n"
   ]
  },
  {
   "cell_type": "code",
   "execution_count": 21,
   "id": "90d3c7b8",
   "metadata": {},
   "outputs": [
    {
     "name": "stdout",
     "output_type": "stream",
     "text": [
      "(176, 384, 384)\n"
     ]
    }
   ],
   "source": [
    "x = itk.imread(image_A_path)\n",
    "print(np.array(x).shape)"
   ]
  },
  {
   "cell_type": "code",
   "execution_count": 22,
   "id": "b7f9fa45",
   "metadata": {},
   "outputs": [
    {
     "data": {
      "text/plain": [
       "<module 'icon_registration.losses' from '/media/data/hastings/InverseConsistency/src/icon_registration/losses.py'>"
      ]
     },
     "execution_count": 22,
     "metadata": {},
     "output_type": "execute_result"
    }
   ],
   "source": [
    "icon_registration.losses.gaussian_blur"
   ]
  },
  {
   "cell_type": "code",
   "execution_count": 23,
   "id": "5f594315",
   "metadata": {},
   "outputs": [],
   "source": [
    "import torchvision.transforms.functional_tensor as F_t"
   ]
  },
  {
   "cell_type": "code",
   "execution_count": 29,
   "id": "89643aa9",
   "metadata": {},
   "outputs": [
    {
     "data": {
      "text/plain": [
       "tensor([0.0282, 0.0327, 0.0373, 0.0419, 0.0464, 0.0506, 0.0543, 0.0573, 0.0596,\n",
       "        0.0610, 0.0615, 0.0610, 0.0596, 0.0573, 0.0543, 0.0506, 0.0464, 0.0419,\n",
       "        0.0373, 0.0327, 0.0282])"
      ]
     },
     "execution_count": 29,
     "metadata": {},
     "output_type": "execute_result"
    }
   ],
   "source": [
    "F_t._get_gaussian_kernel1d(21, 8)"
   ]
  },
  {
   "cell_type": "code",
   "execution_count": null,
   "id": "54453683",
   "metadata": {},
   "outputs": [],
   "source": []
  }
 ],
 "metadata": {
  "kernelspec": {
   "display_name": "Python 3 (ipykernel)",
   "language": "python",
   "name": "python3"
  },
  "language_info": {
   "codemirror_mode": {
    "name": "ipython",
    "version": 3
   },
   "file_extension": ".py",
   "mimetype": "text/x-python",
   "name": "python",
   "nbconvert_exporter": "python",
   "pygments_lexer": "ipython3",
   "version": "3.8.10"
  }
 },
 "nbformat": 4,
 "nbformat_minor": 5
}
