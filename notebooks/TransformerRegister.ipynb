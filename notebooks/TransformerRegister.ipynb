{
 "cells": [
  {
   "cell_type": "code",
   "execution_count": 1,
   "metadata": {},
   "outputs": [],
   "source": [
    "import parent"
   ]
  },
  {
   "cell_type": "code",
   "execution_count": 3,
   "metadata": {},
   "outputs": [],
   "source": [
    "import torch\n",
    "from torch import nn\n",
    "#image_A, image_B = (x[0].cuda() for x in next(zip(d1_t, d2_t)))\n",
    "class RegistrationTransformer(nn.Module):\n",
    "    def __init__(self, size):\n",
    "        self.size = size\n",
    "        super(RegistrationTransformer, self).__init__()\n",
    "        \n",
    "        feature_n = 120\n",
    "        self.position_embedding = nn.Parameter(\n",
    "            torch.randn(((size // 7) **2, 1, feature_n))\n",
    "        )\n",
    "        \n",
    "        self.embed = nn.Conv2d(\n",
    "                    1,\n",
    "                    feature_n,\n",
    "                    kernel_size=7,\n",
    "                    padding=0,\n",
    "                    stride=7,\n",
    "                ).cuda()\n",
    "        \n",
    "        self.decode = nn.ConvTranspose2d(\n",
    "                    feature_n,\n",
    "                    2,\n",
    "                    kernel_size=7,\n",
    "                    padding=0,\n",
    "                    stride=7,\n",
    "                ).cuda()\n",
    "        \n",
    "        #torch.nn.init.zeros_(self.decode.weight)\n",
    "        #torch.nn.init.zeros_(self.decode.bias)\n",
    "        self.t = torch.nn.Transformer(d_model=120, dim_feedforward=256)\n",
    "     \n",
    "    def forward(self, x, y):\n",
    "        x = self.embed_and_reshape(x)\n",
    "        y = self.embed_and_reshape(y)\n",
    "        \n",
    "        out = self.t(y, x)\n",
    "        out = self.reshape_and_decode(out) / 20\n",
    "        \n",
    "        return out\n",
    "        \n",
    "        \n",
    "    def embed_and_reshape(self, a):\n",
    "        a = self.embed(a)\n",
    "        a = a.reshape((a.shape[0], a.shape[1], a.shape[2] * a.shape[3]))\n",
    "        a = a.permute(2, 0, 1)\n",
    "        a = a + self.position_embedding\n",
    "        return a\n",
    "    \n",
    "    def reshape_and_decode(self, seq):\n",
    "        a = seq.permute(1, 2, 0)\n",
    "        size = int(math.sqrt(a.shape[-1]))\n",
    "        a = a.reshape(a.shape[0], a.shape[1], size, size)\n",
    "        a = self.decode(a)\n",
    "        return a\n",
    "        \n",
    "\n",
    "#model = RegistrationTransformer(28)\n",
    "#model.cuda()\n",
    "#model(image_A, image_B).shape"
   ]
  },
  {
   "cell_type": "code",
   "execution_count": 1,
   "metadata": {},
   "outputs": [
    {
     "name": "stdout",
     "output_type": "stream",
     "text": [
      "name of run\n",
      "halfsies?\n"
     ]
    }
   ],
   "source": [
    "import parent\n",
    "import data\n",
    "import networks\n",
    "import network_wrappers\n",
    "import visualize\n",
    "import train\n",
    "import inverseConsistentNet\n",
    "import numpy as np\n",
    "import torch\n",
    "import matplotlib.pyplot as plt\n",
    "import random\n",
    "import os\n",
    "import pickle\n",
    "\n",
    "import describe\n",
    "\n",
    "import argparse\n",
    "import math\n",
    "\n",
    "\n",
    "batch_size = 128\n",
    "\n",
    "data_size=63 * 2\n",
    "\n",
    "d1, d2 = data.get_dataset_triangles(\n",
    "    \"train\", data_size=data_size, hollow=True, batch_size=batch_size\n",
    ")\n",
    "d1_t, d2_t = data.get_dataset_triangles(\n",
    "    \"test\", data_size=data_size, hollow=True, batch_size=batch_size\n",
    ")"
   ]
  },
  {
   "cell_type": "code",
   "execution_count": 5,
   "metadata": {},
   "outputs": [
    {
     "name": "stdout",
     "output_type": "stream",
     "text": [
      "==================================================\n"
     ]
    }
   ],
   "source": [
    "lmbda = 150\n",
    "random.seed(1)\n",
    "torch.manual_seed(1)\n",
    "torch.cuda.manual_seed(1)\n",
    "np.random.seed(1)\n",
    "print(\"=\" * 50)\n",
    "net = inverseConsistentNet.InverseConsistentNet(\n",
    "    network_wrappers.DownsampleNet(network_wrappers.FunctionFromVectorField(RegistrationTransformer(data_size // 2)), 2),\n",
    "    lambda x, y: torch.mean((x - y) ** 2),\n",
    "    lmbda,\n",
    ")\n",
    "\n",
    "input_shape = next(iter(d1))[0].size()\n",
    "net.assign_identity_map(input_shape)\n",
    "net.cuda()\n",
    "optimizer = torch.optim.Adam(net.parameters(), lr=0.001)\n",
    "net.train()\n",
    "\n",
    "\n",
    "xs = []"
   ]
  },
  {
   "cell_type": "code",
   "execution_count": 6,
   "metadata": {},
   "outputs": [
    {
     "name": "stdout",
     "output_type": "stream",
     "text": [
      "[--------------------------------------------------]\n",
      "[]\n",
      "Diffeomorphism Failures per batch\n",
      "tensor(56064)\n",
      "Diffeomorphism Failures per batch\n",
      "tensor(55663)\n",
      "Diffeomorphism Failures per batch\n",
      "tensor(56078)\n",
      "[--------------------------------------------------]\n",
      "[]\n",
      "Diffeomorphism Failures per batch\n",
      "tensor(61484)\n",
      "Diffeomorphism Failures per batch\n",
      "tensor(61514)\n",
      "Diffeomorphism Failures per batch\n",
      "tensor(61569)\n",
      "[--------------------------------------------------]\n",
      "[]\n",
      "Diffeomorphism Failures per batch\n",
      "tensor(58611)\n",
      "Diffeomorphism Failures per batch\n",
      "tensor(58928)\n",
      "Diffeomorphism Failures per batch\n",
      "tensor(58985)\n",
      "[--------------------------------------------------]\n",
      "[]\n",
      "Diffeomorphism Failures per batch\n",
      "tensor(60572)\n",
      "Diffeomorphism Failures per batch\n",
      "tensor(60786)\n",
      "Diffeomorphism Failures per batch\n",
      "tensor(60836)\n",
      "[--------------------------------------------------]\n",
      "[]\n",
      "Diffeomorphism Failures per batch\n",
      "tensor(61467)\n",
      "Diffeomorphism Failures per batch\n",
      "tensor(61344)\n",
      "Diffeomorphism Failures per batch\n",
      "tensor(61308)\n",
      "[--------------------------------------------------]\n",
      "[]\n",
      "Diffeomorphism Failures per batch\n",
      "tensor(60949)\n",
      "Diffeomorphism Failures per batch\n",
      "tensor(60894)\n",
      "Diffeomorphism Failures per batch\n",
      "tensor(60776)\n",
      "[--------------------------------------------------]\n",
      "[]\n",
      "Diffeomorphism Failures per batch\n",
      "tensor(59545)\n"
     ]
    },
    {
     "name": "stderr",
     "output_type": "stream",
     "text": [
      "/playpen-raid1/tgreer/InverseConsistency/visualize.py:32: RuntimeWarning: More than 20 figures have been opened. Figures created through the pyplot interface (`matplotlib.pyplot.figure`) are retained until explicitly closed and may consume too much memory. (To control this warning, see the rcParam `figure.max_open_warning`).\n",
      "  plt.figure(dpi=400)\n"
     ]
    },
    {
     "name": "stdout",
     "output_type": "stream",
     "text": [
      "Diffeomorphism Failures per batch\n",
      "tensor(59625)\n",
      "Diffeomorphism Failures per batch\n",
      "tensor(59626)\n",
      "[--------------------------------------------------]\n",
      "[]\n",
      "Diffeomorphism Failures per batch\n",
      "tensor(61805)\n",
      "Diffeomorphism Failures per batch\n",
      "tensor(61715)\n",
      "Diffeomorphism Failures per batch\n",
      "tensor(61896)\n",
      "[--------------------------------------------------]\n",
      "[]\n",
      "Diffeomorphism Failures per batch\n",
      "tensor(59511)\n",
      "Diffeomorphism Failures per batch\n",
      "tensor(59727)\n",
      "Diffeomorphism Failures per batch\n",
      "tensor(59774)\n",
      "[--------------------------------------------------]\n",
      "[]\n",
      "Diffeomorphism Failures per batch\n",
      "tensor(60732)\n",
      "Diffeomorphism Failures per batch\n",
      "tensor(60969)\n",
      "Diffeomorphism Failures per batch\n",
      "tensor(60994)\n",
      "[--------------------------------------------------]\n",
      "[]\n",
      "Diffeomorphism Failures per batch\n",
      "tensor(59801)\n",
      "Diffeomorphism Failures per batch\n",
      "tensor(59471)\n",
      "Diffeomorphism Failures per batch\n",
      "tensor(59806)\n",
      "[--------------------------------------------------]\n",
      "[]\n",
      "Diffeomorphism Failures per batch\n",
      "tensor(59020)\n",
      "Diffeomorphism Failures per batch\n",
      "tensor(58883)\n",
      "Diffeomorphism Failures per batch\n",
      "tensor(58943)\n",
      "[--------------------------------------------------]\n",
      "[]\n",
      "Diffeomorphism Failures per batch\n",
      "tensor(60839)\n",
      "Diffeomorphism Failures per batch\n",
      "tensor(60927)\n",
      "Diffeomorphism Failures per batch\n",
      "tensor(60687)\n",
      "[--------------------------------------------------]\n",
      "[]\n",
      "Diffeomorphism Failures per batch\n",
      "tensor(61302)\n",
      "Diffeomorphism Failures per batch\n",
      "tensor(61412)\n",
      "Diffeomorphism Failures per batch\n",
      "tensor(61276)\n",
      "[--------------------------------------------------]\n",
      "[]\n",
      "Diffeomorphism Failures per batch\n",
      "tensor(61694)\n",
      "Diffeomorphism Failures per batch\n",
      "tensor(61832)\n",
      "Diffeomorphism Failures per batch\n",
      "tensor(61558)\n",
      "[--------------------------------------------------]\n",
      "[]\n",
      "Diffeomorphism Failures per batch\n",
      "tensor(59876)\n",
      "Diffeomorphism Failures per batch\n",
      "tensor(59778)\n",
      "Diffeomorphism Failures per batch\n",
      "tensor(59734)\n",
      "[--------------------------------------------------]\n",
      "[]\n",
      "Diffeomorphism Failures per batch\n",
      "tensor(61141)\n",
      "Diffeomorphism Failures per batch\n",
      "tensor(61396)\n",
      "Diffeomorphism Failures per batch\n",
      "tensor(61221)\n",
      "[--------------------------------------------------]\n",
      "[]\n",
      "Diffeomorphism Failures per batch\n",
      "tensor(60797)\n",
      "Diffeomorphism Failures per batch\n",
      "tensor(60635)\n",
      "Diffeomorphism Failures per batch\n",
      "tensor(60877)\n",
      "[--------------------------------------------------]\n",
      "[]\n",
      "Diffeomorphism Failures per batch\n",
      "tensor(60762)\n",
      "Diffeomorphism Failures per batch\n",
      "tensor(60679)\n",
      "Diffeomorphism Failures per batch\n",
      "tensor(60737)\n",
      "[--------------------------------------------------]\n",
      "[]\n",
      "Diffeomorphism Failures per batch\n",
      "tensor(60717)\n",
      "Diffeomorphism Failures per batch\n",
      "tensor(60669)\n",
      "Diffeomorphism Failures per batch\n",
      "tensor(60752)\n",
      "[--------------------------------------------------]\n",
      "[]\n",
      "Diffeomorphism Failures per batch\n",
      "tensor(59965)\n",
      "Diffeomorphism Failures per batch\n",
      "tensor(59812)\n",
      "Diffeomorphism Failures per batch\n",
      "tensor(59827)\n",
      "[--------------------------------------------------]\n",
      "[]\n",
      "Diffeomorphism Failures per batch\n",
      "tensor(61239)\n",
      "Diffeomorphism Failures per batch\n",
      "tensor(61268)\n",
      "Diffeomorphism Failures per batch\n",
      "tensor(61256)\n",
      "[--------------------------------------------------]\n",
      "[]\n",
      "Diffeomorphism Failures per batch\n",
      "tensor(62514)\n",
      "Diffeomorphism Failures per batch\n",
      "tensor(62392)\n",
      "Diffeomorphism Failures per batch\n",
      "tensor(62392)\n",
      "[--------------------------------------------------]\n",
      "[]\n",
      "Diffeomorphism Failures per batch\n",
      "tensor(60707)\n",
      "Diffeomorphism Failures per batch\n",
      "tensor(60944)\n",
      "Diffeomorphism Failures per batch\n",
      "tensor(61135)\n",
      "[--------------------------------------------------]\n",
      "[]\n",
      "Diffeomorphism Failures per batch\n",
      "tensor(58096)\n",
      "Diffeomorphism Failures per batch\n",
      "tensor(58375)\n",
      "Diffeomorphism Failures per batch\n",
      "tensor(58540)\n",
      "[--------------------------------------------------]\n",
      "[]\n",
      "Diffeomorphism Failures per batch\n",
      "tensor(62239)\n",
      "Diffeomorphism Failures per batch\n",
      "tensor(62299)\n",
      "Diffeomorphism Failures per batch\n",
      "tensor(62132)\n",
      "[--------------------------------------------------]\n",
      "[]\n",
      "Diffeomorphism Failures per batch\n",
      "tensor(61650)\n",
      "Diffeomorphism Failures per batch\n",
      "tensor(61817)\n",
      "Diffeomorphism Failures per batch\n",
      "tensor(61849)\n",
      "[--------------------------------------------------]\n",
      "[]\n",
      "Diffeomorphism Failures per batch\n",
      "tensor(61640)\n",
      "Diffeomorphism Failures per batch\n",
      "tensor(61996)\n",
      "Diffeomorphism Failures per batch\n",
      "tensor(61911)\n",
      "[--------------------------------------------------]\n",
      "[]\n",
      "Diffeomorphism Failures per batch\n",
      "tensor(61431)\n",
      "Diffeomorphism Failures per batch\n",
      "tensor(61464)\n",
      "Diffeomorphism Failures per batch\n",
      "tensor(61483)\n",
      "[--------------------------------------------------]\n",
      "[]\n",
      "Diffeomorphism Failures per batch\n",
      "tensor(60672)\n",
      "Diffeomorphism Failures per batch\n",
      "tensor(60945)\n",
      "Diffeomorphism Failures per batch\n",
      "tensor(60947)\n"
     ]
    },
    {
     "data": {
      "text/plain": [
       "<Figure size 432x288 with 0 Axes>"
      ]
     },
     "metadata": {},
     "output_type": "display_data"
    },
    {
     "data": {
      "text/plain": [
       "<Figure size 2400x1600 with 0 Axes>"
      ]
     },
     "metadata": {},
     "output_type": "display_data"
    },
    {
     "data": {
      "text/plain": [
       "<Figure size 2400x1600 with 0 Axes>"
      ]
     },
     "metadata": {},
     "output_type": "display_data"
    },
    {
     "data": {
      "text/plain": [
       "<Figure size 2400x1600 with 0 Axes>"
      ]
     },
     "metadata": {},
     "output_type": "display_data"
    },
    {
     "data": {
      "text/plain": [
       "<Figure size 2400x1600 with 0 Axes>"
      ]
     },
     "metadata": {},
     "output_type": "display_data"
    },
    {
     "data": {
      "text/plain": [
       "<Figure size 2400x1600 with 0 Axes>"
      ]
     },
     "metadata": {},
     "output_type": "display_data"
    },
    {
     "data": {
      "text/plain": [
       "<Figure size 2400x1600 with 0 Axes>"
      ]
     },
     "metadata": {},
     "output_type": "display_data"
    },
    {
     "data": {
      "text/plain": [
       "<Figure size 2400x1600 with 0 Axes>"
      ]
     },
     "metadata": {},
     "output_type": "display_data"
    },
    {
     "data": {
      "text/plain": [
       "<Figure size 2400x1600 with 0 Axes>"
      ]
     },
     "metadata": {},
     "output_type": "display_data"
    },
    {
     "data": {
      "text/plain": [
       "<Figure size 2400x1600 with 0 Axes>"
      ]
     },
     "metadata": {},
     "output_type": "display_data"
    },
    {
     "data": {
      "text/plain": [
       "<Figure size 2400x1600 with 0 Axes>"
      ]
     },
     "metadata": {},
     "output_type": "display_data"
    },
    {
     "data": {
      "text/plain": [
       "<Figure size 2400x1600 with 0 Axes>"
      ]
     },
     "metadata": {},
     "output_type": "display_data"
    },
    {
     "data": {
      "text/plain": [
       "<Figure size 2400x1600 with 0 Axes>"
      ]
     },
     "metadata": {},
     "output_type": "display_data"
    },
    {
     "data": {
      "text/plain": [
       "<Figure size 2400x1600 with 0 Axes>"
      ]
     },
     "metadata": {},
     "output_type": "display_data"
    },
    {
     "data": {
      "text/plain": [
       "<Figure size 2400x1600 with 0 Axes>"
      ]
     },
     "metadata": {},
     "output_type": "display_data"
    },
    {
     "data": {
      "text/plain": [
       "<Figure size 2400x1600 with 0 Axes>"
      ]
     },
     "metadata": {},
     "output_type": "display_data"
    },
    {
     "data": {
      "text/plain": [
       "<Figure size 2400x1600 with 0 Axes>"
      ]
     },
     "metadata": {},
     "output_type": "display_data"
    },
    {
     "data": {
      "text/plain": [
       "<Figure size 2400x1600 with 0 Axes>"
      ]
     },
     "metadata": {},
     "output_type": "display_data"
    },
    {
     "data": {
      "text/plain": [
       "<Figure size 2400x1600 with 0 Axes>"
      ]
     },
     "metadata": {},
     "output_type": "display_data"
    },
    {
     "data": {
      "text/plain": [
       "<Figure size 2400x1600 with 0 Axes>"
      ]
     },
     "metadata": {},
     "output_type": "display_data"
    },
    {
     "data": {
      "text/plain": [
       "<Figure size 2400x1600 with 0 Axes>"
      ]
     },
     "metadata": {},
     "output_type": "display_data"
    },
    {
     "data": {
      "text/plain": [
       "<Figure size 2400x1600 with 0 Axes>"
      ]
     },
     "metadata": {},
     "output_type": "display_data"
    },
    {
     "data": {
      "text/plain": [
       "<Figure size 2400x1600 with 0 Axes>"
      ]
     },
     "metadata": {},
     "output_type": "display_data"
    },
    {
     "data": {
      "text/plain": [
       "<Figure size 2400x1600 with 0 Axes>"
      ]
     },
     "metadata": {},
     "output_type": "display_data"
    },
    {
     "data": {
      "text/plain": [
       "<Figure size 2400x1600 with 0 Axes>"
      ]
     },
     "metadata": {},
     "output_type": "display_data"
    },
    {
     "data": {
      "text/plain": [
       "<Figure size 2400x1600 with 0 Axes>"
      ]
     },
     "metadata": {},
     "output_type": "display_data"
    },
    {
     "data": {
      "text/plain": [
       "<Figure size 2400x1600 with 0 Axes>"
      ]
     },
     "metadata": {},
     "output_type": "display_data"
    },
    {
     "data": {
      "text/plain": [
       "<Figure size 2400x1600 with 0 Axes>"
      ]
     },
     "metadata": {},
     "output_type": "display_data"
    },
    {
     "data": {
      "text/plain": [
       "<Figure size 2400x1600 with 0 Axes>"
      ]
     },
     "metadata": {},
     "output_type": "display_data"
    },
    {
     "data": {
      "text/plain": [
       "<Figure size 2400x1600 with 0 Axes>"
      ]
     },
     "metadata": {},
     "output_type": "display_data"
    },
    {
     "data": {
      "text/plain": [
       "<Figure size 2400x1600 with 0 Axes>"
      ]
     },
     "metadata": {},
     "output_type": "display_data"
    },
    {
     "data": {
      "text/plain": [
       "<Figure size 2400x1600 with 0 Axes>"
      ]
     },
     "metadata": {},
     "output_type": "display_data"
    },
    {
     "data": {
      "text/plain": [
       "<Figure size 2400x1600 with 0 Axes>"
      ]
     },
     "metadata": {},
     "output_type": "display_data"
    },
    {
     "data": {
      "text/plain": [
       "<Figure size 2400x1600 with 0 Axes>"
      ]
     },
     "metadata": {},
     "output_type": "display_data"
    },
    {
     "data": {
      "text/plain": [
       "<Figure size 2400x1600 with 0 Axes>"
      ]
     },
     "metadata": {},
     "output_type": "display_data"
    },
    {
     "data": {
      "text/plain": [
       "<Figure size 2400x1600 with 0 Axes>"
      ]
     },
     "metadata": {},
     "output_type": "display_data"
    },
    {
     "data": {
      "text/plain": [
       "<Figure size 2400x1600 with 0 Axes>"
      ]
     },
     "metadata": {},
     "output_type": "display_data"
    },
    {
     "data": {
      "text/plain": [
       "<Figure size 2400x1600 with 0 Axes>"
      ]
     },
     "metadata": {},
     "output_type": "display_data"
    },
    {
     "data": {
      "text/plain": [
       "<Figure size 2400x1600 with 0 Axes>"
      ]
     },
     "metadata": {},
     "output_type": "display_data"
    },
    {
     "data": {
      "text/plain": [
       "<Figure size 2400x1600 with 0 Axes>"
      ]
     },
     "metadata": {},
     "output_type": "display_data"
    },
    {
     "data": {
      "text/plain": [
       "<Figure size 2400x1600 with 0 Axes>"
      ]
     },
     "metadata": {},
     "output_type": "display_data"
    },
    {
     "data": {
      "text/plain": [
       "<Figure size 2400x1600 with 0 Axes>"
      ]
     },
     "metadata": {},
     "output_type": "display_data"
    },
    {
     "data": {
      "text/plain": [
       "<Figure size 2400x1600 with 0 Axes>"
      ]
     },
     "metadata": {},
     "output_type": "display_data"
    },
    {
     "data": {
      "text/plain": [
       "<Figure size 2400x1600 with 0 Axes>"
      ]
     },
     "metadata": {},
     "output_type": "display_data"
    },
    {
     "data": {
      "text/plain": [
       "<Figure size 2400x1600 with 0 Axes>"
      ]
     },
     "metadata": {},
     "output_type": "display_data"
    },
    {
     "data": {
      "text/plain": [
       "<Figure size 2400x1600 with 0 Axes>"
      ]
     },
     "metadata": {},
     "output_type": "display_data"
    },
    {
     "data": {
      "text/plain": [
       "<Figure size 2400x1600 with 0 Axes>"
      ]
     },
     "metadata": {},
     "output_type": "display_data"
    },
    {
     "data": {
      "text/plain": [
       "<Figure size 2400x1600 with 0 Axes>"
      ]
     },
     "metadata": {},
     "output_type": "display_data"
    },
    {
     "data": {
      "text/plain": [
       "<Figure size 2400x1600 with 0 Axes>"
      ]
     },
     "metadata": {},
     "output_type": "display_data"
    },
    {
     "data": {
      "text/plain": [
       "<Figure size 2400x1600 with 0 Axes>"
      ]
     },
     "metadata": {},
     "output_type": "display_data"
    },
    {
     "data": {
      "text/plain": [
       "<Figure size 2400x1600 with 0 Axes>"
      ]
     },
     "metadata": {},
     "output_type": "display_data"
    },
    {
     "data": {
      "text/plain": [
       "<Figure size 2400x1600 with 0 Axes>"
      ]
     },
     "metadata": {},
     "output_type": "display_data"
    },
    {
     "data": {
      "text/plain": [
       "<Figure size 2400x1600 with 0 Axes>"
      ]
     },
     "metadata": {},
     "output_type": "display_data"
    },
    {
     "data": {
      "text/plain": [
       "<Figure size 2400x1600 with 0 Axes>"
      ]
     },
     "metadata": {},
     "output_type": "display_data"
    },
    {
     "data": {
      "text/plain": [
       "<Figure size 2400x1600 with 0 Axes>"
      ]
     },
     "metadata": {},
     "output_type": "display_data"
    },
    {
     "data": {
      "text/plain": [
       "<Figure size 2400x1600 with 0 Axes>"
      ]
     },
     "metadata": {},
     "output_type": "display_data"
    },
    {
     "data": {
      "text/plain": [
       "<Figure size 2400x1600 with 0 Axes>"
      ]
     },
     "metadata": {},
     "output_type": "display_data"
    },
    {
     "data": {
      "text/plain": [
       "<Figure size 2400x1600 with 0 Axes>"
      ]
     },
     "metadata": {},
     "output_type": "display_data"
    },
    {
     "data": {
      "text/plain": [
       "<Figure size 2400x1600 with 0 Axes>"
      ]
     },
     "metadata": {},
     "output_type": "display_data"
    },
    {
     "data": {
      "text/plain": [
       "<Figure size 2400x1600 with 0 Axes>"
      ]
     },
     "metadata": {},
     "output_type": "display_data"
    },
    {
     "data": {
      "text/plain": [
       "<Figure size 2400x1600 with 0 Axes>"
      ]
     },
     "metadata": {},
     "output_type": "display_data"
    },
    {
     "data": {
      "text/plain": [
       "<Figure size 2400x1600 with 0 Axes>"
      ]
     },
     "metadata": {},
     "output_type": "display_data"
    },
    {
     "data": {
      "text/plain": [
       "<Figure size 2400x1600 with 0 Axes>"
      ]
     },
     "metadata": {},
     "output_type": "display_data"
    },
    {
     "data": {
      "text/plain": [
       "<Figure size 2400x1600 with 0 Axes>"
      ]
     },
     "metadata": {},
     "output_type": "display_data"
    },
    {
     "data": {
      "text/plain": [
       "<Figure size 2400x1600 with 0 Axes>"
      ]
     },
     "metadata": {},
     "output_type": "display_data"
    },
    {
     "data": {
      "text/plain": [
       "<Figure size 2400x1600 with 0 Axes>"
      ]
     },
     "metadata": {},
     "output_type": "display_data"
    },
    {
     "data": {
      "text/plain": [
       "<Figure size 2400x1600 with 0 Axes>"
      ]
     },
     "metadata": {},
     "output_type": "display_data"
    },
    {
     "data": {
      "text/plain": [
       "<Figure size 2400x1600 with 0 Axes>"
      ]
     },
     "metadata": {},
     "output_type": "display_data"
    },
    {
     "data": {
      "text/plain": [
       "<Figure size 2400x1600 with 0 Axes>"
      ]
     },
     "metadata": {},
     "output_type": "display_data"
    },
    {
     "data": {
      "text/plain": [
       "<Figure size 2400x1600 with 0 Axes>"
      ]
     },
     "metadata": {},
     "output_type": "display_data"
    },
    {
     "data": {
      "text/plain": [
       "<Figure size 2400x1600 with 0 Axes>"
      ]
     },
     "metadata": {},
     "output_type": "display_data"
    },
    {
     "data": {
      "text/plain": [
       "<Figure size 2400x1600 with 0 Axes>"
      ]
     },
     "metadata": {},
     "output_type": "display_data"
    },
    {
     "data": {
      "text/plain": [
       "<Figure size 2400x1600 with 0 Axes>"
      ]
     },
     "metadata": {},
     "output_type": "display_data"
    },
    {
     "data": {
      "text/plain": [
       "<Figure size 2400x1600 with 0 Axes>"
      ]
     },
     "metadata": {},
     "output_type": "display_data"
    },
    {
     "data": {
      "text/plain": [
       "<Figure size 2400x1600 with 0 Axes>"
      ]
     },
     "metadata": {},
     "output_type": "display_data"
    },
    {
     "data": {
      "text/plain": [
       "<Figure size 2400x1600 with 0 Axes>"
      ]
     },
     "metadata": {},
     "output_type": "display_data"
    },
    {
     "data": {
      "text/plain": [
       "<Figure size 2400x1600 with 0 Axes>"
      ]
     },
     "metadata": {},
     "output_type": "display_data"
    },
    {
     "data": {
      "text/plain": [
       "<Figure size 2400x1600 with 0 Axes>"
      ]
     },
     "metadata": {},
     "output_type": "display_data"
    },
    {
     "data": {
      "text/plain": [
       "<Figure size 2400x1600 with 0 Axes>"
      ]
     },
     "metadata": {},
     "output_type": "display_data"
    },
    {
     "data": {
      "text/plain": [
       "<Figure size 2400x1600 with 0 Axes>"
      ]
     },
     "metadata": {},
     "output_type": "display_data"
    },
    {
     "data": {
      "text/plain": [
       "<Figure size 2400x1600 with 0 Axes>"
      ]
     },
     "metadata": {},
     "output_type": "display_data"
    },
    {
     "data": {
      "text/plain": [
       "<Figure size 2400x1600 with 0 Axes>"
      ]
     },
     "metadata": {},
     "output_type": "display_data"
    },
    {
     "data": {
      "text/plain": [
       "<Figure size 2400x1600 with 0 Axes>"
      ]
     },
     "metadata": {},
     "output_type": "display_data"
    },
    {
     "data": {
      "text/plain": [
       "<Figure size 2400x1600 with 0 Axes>"
      ]
     },
     "metadata": {},
     "output_type": "display_data"
    },
    {
     "data": {
      "text/plain": [
       "<Figure size 2400x1600 with 0 Axes>"
      ]
     },
     "metadata": {},
     "output_type": "display_data"
    },
    {
     "data": {
      "text/plain": [
       "<Figure size 2400x1600 with 0 Axes>"
      ]
     },
     "metadata": {},
     "output_type": "display_data"
    },
    {
     "data": {
      "text/plain": [
       "<Figure size 2400x1600 with 0 Axes>"
      ]
     },
     "metadata": {},
     "output_type": "display_data"
    },
    {
     "data": {
      "text/plain": [
       "<Figure size 2400x1600 with 0 Axes>"
      ]
     },
     "metadata": {},
     "output_type": "display_data"
    },
    {
     "data": {
      "text/plain": [
       "<Figure size 2400x1600 with 0 Axes>"
      ]
     },
     "metadata": {},
     "output_type": "display_data"
    },
    {
     "data": {
      "text/plain": [
       "<Figure size 2400x1600 with 0 Axes>"
      ]
     },
     "metadata": {},
     "output_type": "display_data"
    },
    {
     "data": {
      "text/plain": [
       "<Figure size 2400x1600 with 0 Axes>"
      ]
     },
     "metadata": {},
     "output_type": "display_data"
    }
   ],
   "source": [
    "for _ in range(0,30):\n",
    "    y = np.array(train.train2d(net, optimizer, d1, d2, epochs=50))\n",
    "    xs.append(y)\n",
    "    x = np.concatenate(xs)\n",
    "    plt.title(\n",
    "        \"Loss curve for \" + type(net.regis_net).__name__ + \" lambda=\" + str(lmbda)\n",
    "    )\n",
    "    plt.plot(x[:, :3])\n",
    "    plt.savefig(describe.run_dir + f\"loss.png\")\n",
    "    plt.clf()\n",
    "    plt.title(\"Log # pixels with negative Jacobian per epoch\")\n",
    "    plt.plot(x[:, 3])\n",
    "    # random.seed(1)\n",
    "    plt.savefig(describe.run_dir + f\"lossj.png\")\n",
    "    plt.clf()\n",
    "    with open(describe.run_dir + \"loss.pickle\", \"wb\") as f:\n",
    "        pickle.dump(x, f)\n",
    "    # torch.manual_seed(1)\n",
    "    # torch.cuda.manual_seed(1)\n",
    "    # np.random.seed(1)\n",
    "    image_A, image_B = (x[0].cuda() for x in next(zip(d1_t, d2_t)))\n",
    "    for N in range(3):\n",
    "        visualize.visualizeRegistration(\n",
    "            net,\n",
    "            image_A,\n",
    "            image_B,\n",
    "            N,\n",
    "            describe.run_dir + f\"epoch{_:03}\" + \"case\" + str(N) + \".png\",\n",
    "        )"
   ]
  },
  {
   "cell_type": "code",
   "execution_count": 32,
   "metadata": {},
   "outputs": [
    {
     "data": {
      "text/plain": [
       "<Figure size 432x288 with 0 Axes>"
      ]
     },
     "metadata": {},
     "output_type": "display_data"
    }
   ],
   "source": [
    "random.seed(1)\n",
    "torch.manual_seed(1)\n",
    "torch.cuda.manual_seed(1)\n",
    "np.random.seed(1)\n",
    "image_A, image_B = (x[0].cuda() for x in next(zip(d1_t, d2_t)))\n",
    "os.mkdir(describe.run_dir + \"final/\")\n",
    "for N in range(30):\n",
    "    visualize.visualizeRegistrationCompact(net, image_A, image_B, N)\n",
    "    plt.savefig(describe.run_dir + f\"final/{N}.png\")\n",
    "    plt.clf()\n",
    "\n",
    "torch.save(net.state_dict(), describe.run_dir + \"network.trch\")\n",
    "torch.save(optimizer.state_dict(), describe.run_dir + \"opt.trch\")"
   ]
  },
  {
   "cell_type": "code",
   "execution_count": 31,
   "metadata": {},
   "outputs": [
    {
     "data": {
      "text/plain": [
       "<matplotlib.image.AxesImage at 0x7faf58108c50>"
      ]
     },
     "execution_count": 31,
     "metadata": {},
     "output_type": "execute_result"
    },
    {
     "data": {
      "image/png": "[encoded data removed]",
      "text/plain": [
       "<Figure size 432x288 with 1 Axes>"
      ]
     },
     "metadata": {
      "needs_background": "light"
     },
     "output_type": "display_data"
    }
   ],
   "source": [
    "plt.imshow(net.regis_net.net.decode.weight.cpu().detach()[27][1])"
   ]
  },
  {
   "cell_type": "code",
   "execution_count": null,
   "metadata": {},
   "outputs": [],
   "source": []
  },
  {
   "cell_type": "code",
   "execution_count": null,
   "metadata": {},
   "outputs": [],
   "source": [
    "model.t.d_model"
   ]
  },
  {
   "cell_type": "code",
   "execution_count": 55,
   "metadata": {},
   "outputs": [],
   "source": [
    "model.t.forward?"
   ]
  },
  {
   "cell_type": "code",
   "execution_count": 37,
   "metadata": {},
   "outputs": [
    {
     "ename": "AttributeError",
     "evalue": "module 'torch' has no attribute 'Parameter'",
     "output_type": "error",
     "traceback": [
      "\u001b[0;31m---------------------------------------------------------------------------\u001b[0m",
      "\u001b[0;31mAttributeError\u001b[0m                            Traceback (most recent call last)",
      "\u001b[0;32m<ipython-input-37-c1cd4bf89325>\u001b[0m in \u001b[0;36m<module>\u001b[0;34m\u001b[0m\n\u001b[0;32m----> 1\u001b[0;31m \u001b[0mtorch\u001b[0m\u001b[0;34m.\u001b[0m\u001b[0mParameter\u001b[0m\u001b[0;34m\u001b[0m\u001b[0m\n\u001b[0m",
      "\u001b[0;31mAttributeError\u001b[0m: module 'torch' has no attribute 'Parameter'"
     ]
    }
   ],
   "source": [
    "torch.Parameter"
   ]
  },
  {
   "cell_type": "code",
   "execution_count": 39,
   "metadata": {},
   "outputs": [],
   "source": [
    "torch.randn(("
   ]
  },
  {
   "cell_type": "code",
   "execution_count": 2,
   "metadata": {},
   "outputs": [],
   "source": [
    "nn.Transformer?"
   ]
  },
  {
   "cell_type": "code",
   "execution_count": null,
   "metadata": {},
   "outputs": [],
   "source": []
  }
 ],
 "metadata": {
  "kernelspec": {
   "display_name": "Python 3",
   "language": "python",
   "name": "python3"
  },
  "language_info": {
   "codemirror_mode": {
    "name": "ipython",
    "version": 3
   },
   "file_extension": ".py",
   "mimetype": "text/x-python",
   "name": "python",
   "nbconvert_exporter": "python",
   "pygments_lexer": "ipython3",
   "version": "3.7.0"
  }
 },
 "nbformat": 4,
 "nbformat_minor": 4
}
